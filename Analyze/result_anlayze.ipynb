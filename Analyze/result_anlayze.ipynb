{
 "cells": [
  {
   "cell_type": "code",
   "execution_count": 82,
   "metadata": {},
   "outputs": [],
   "source": [
    "from tqdm import tqdm\n",
    "from pprint import pprint\n",
    "from nltk.metrics import distance\n",
    "\n",
    "import matplotlib.pyplot as plt\n",
    "import pickle\n",
    "import numpy as np\n",
    "import os\n",
    "import csv\n",
    "import json\n",
    "import random\n",
    "import shutil"
   ]
  },
  {
   "cell_type": "markdown",
   "metadata": {},
   "source": [
    "### Util"
   ]
  },
  {
   "cell_type": "code",
   "execution_count": 83,
   "metadata": {},
   "outputs": [],
   "source": [
    "def violin_and_boxplot(list1):\n",
    "    print('mean:{}'.format(np.mean(list1)))\n",
    "    plt.style.use('default')\n",
    "    fig, ax = plt.subplots()\n",
    "    ax.violinplot([list1], vert=False)\n",
    "    ax.boxplot([list1], vert=False)\n",
    "    # plt.xscale('log')\n",
    "    plt.yticks([1], ['target'])\n",
    "    plt.show()\n",
    "\n",
    "def bar_graph(sequence_stat):\n",
    "    x = np.arange(len(sequence_stat))\n",
    "    sequence_str = sequence_stat.keys()\n",
    "    values = sequence_stat.values()\n",
    "\n",
    "    plt.bar(x, values)\n",
    "    plt.xticks(x, sequence_str)\n",
    "    plt.show()\n",
    "\n",
    "def makedirs(path): \n",
    "   try: \n",
    "        os.makedirs(path) \n",
    "   except OSError:\n",
    "       if not os.path.isdir(path): \n",
    "           raise\n",
    "\n",
    "def get_bug_info(target_bug_id):\n",
    "    with open('/home/apr/extDrive1/samsung/TFix/data/dataset/test_data_all_result.json', 'r') as f:\n",
    "        test_dataset = json.load(f)\n",
    "    for instance in test_dataset:\n",
    "        if instance['id'] == target_bug_id:\n",
    "            return instance\n",
    "\n",
    "def read_json(file_dir):\n",
    "    with open(file_dir, 'r') as f:\n",
    "        return json.load(f)\n",
    "def write_json(json_content, file_dir):\n",
    "    with open(file_dir, 'w') as f:\n",
    "        json.dump(json_content, f)\n",
    "def read_pickle(file_dir):\n",
    "    with open(file_dir, 'rb') as f:\n",
    "        return pickle.load(f)\n",
    "def write_pickle(file_content, file_dir):\n",
    "    with open(file_dir, 'wb') as f:\n",
    "        pickle.dump(file_content, f)\n",
    "\n",
    "def sort_dict_by_value(target_dict):\n",
    "    return sorted(target_dict.items(), key=lambda x:x[1], reverse=True)"
   ]
  },
  {
   "cell_type": "markdown",
   "metadata": {},
   "source": [
    "### read csv files"
   ]
  },
  {
   "cell_type": "code",
   "execution_count": 84,
   "metadata": {},
   "outputs": [],
   "source": [
    "donorcode_answer_dir = '../Data/DonorCodes.txt'\n",
    "direction_result_dir = '../Data/HitRatio/keyword.csv'\n",
    "global_search_result_dir = '../Data/globalsearch.csv'"
   ]
  },
  {
   "cell_type": "code",
   "execution_count": 85,
   "metadata": {},
   "outputs": [],
   "source": [
    "with open(donorcode_answer_dir, 'r') as f:\n",
    "    answer_list = f.readlines()"
   ]
  },
  {
   "cell_type": "code",
   "execution_count": 86,
   "metadata": {},
   "outputs": [],
   "source": [
    "global_result = []\n",
    "with open(global_search_result_dir, 'r') as f:\n",
    "    rdr = csv.reader(f)\n",
    "    for line in rdr:\n",
    "        global_result.append(line)"
   ]
  },
  {
   "cell_type": "code",
   "execution_count": 87,
   "metadata": {},
   "outputs": [],
   "source": [
    "direction_result = []\n",
    "with open(direction_result_dir, 'r') as f:\n",
    "    rdr = csv.reader(f)\n",
    "    for line in rdr:\n",
    "        direction_result.append(line)"
   ]
  },
  {
   "cell_type": "code",
   "execution_count": 88,
   "metadata": {},
   "outputs": [
    {
     "name": "stdout",
     "output_type": "stream",
     "text": [
      "Chart_1\n",
      "Chart_15\n",
      "Chart_20\n",
      "Closure_4\n",
      "Closure_6\n",
      "Closure_11\n",
      "Closure_13\n",
      "Closure_18\n",
      "Closure_22\n",
      "Closure_31\n",
      "Closure_33\n",
      "Closure_46\n",
      "Closure_62\n",
      "Closure_73\n",
      "Closure_78\n",
      "Closure_86\n",
      "Closure_101\n",
      "Closure_102\n",
      "Closure_115\n",
      "Closure_117\n",
      "Closure_126\n",
      "Closure_168\n",
      "Lang_10\n",
      "Lang_25\n",
      "Lang_29\n",
      "Lang_50\n",
      "Lang_51\n",
      "Lang_53\n",
      "Lang_57\n",
      "Lang_58\n",
      "Math_2\n",
      "Math_22\n",
      "Math_27\n",
      "Math_30\n",
      "Math_34\n",
      "Math_50\n",
      "Math_57\n",
      "Math_60\n",
      "Math_63\n",
      "Math_69\n",
      "Math_77\n",
      "Math_79\n",
      "Math_80\n",
      "Math_82\n",
      "Math_85\n",
      "Math_94\n",
      "Math_104\n",
      "Mockito_5\n",
      "Mockito_27\n",
      "Time_19\n",
      "Cli_7\n",
      "Cli_11\n",
      "Cli_17\n",
      "Cli_19\n",
      "Cli_25\n",
      "Cli_28\n",
      "Cli_32\n",
      "Cli_34\n",
      "Cli_36\n",
      "Codec_4\n",
      "Codec_8\n",
      "Codec_14\n",
      "Codec_16\n",
      "Collections_26\n",
      "Compress_14\n",
      "Compress_16\n",
      "Compress_19\n",
      "Compress_22\n",
      "Compress_23\n",
      "Compress_27\n",
      "Compress_31\n",
      "Compress_38\n",
      "Compress_45\n",
      "Csv_14\n",
      "Csv_15\n",
      "Gson_4\n",
      "Gson_14\n",
      "Gson_16\n",
      "Gson_18\n",
      "JacksonCore_11\n",
      "JacksonCore_14\n",
      "JacksonCore_25\n",
      "JacksonDatabind_1\n",
      "JacksonDatabind_16\n",
      "JacksonDatabind_17\n",
      "JacksonDatabind_20\n",
      "JacksonDatabind_28\n",
      "JacksonDatabind_37\n",
      "JacksonDatabind_69\n",
      "JacksonDatabind_76\n",
      "JacksonDatabind_83\n",
      "JacksonDatabind_102\n",
      "JacksonXml_3\n",
      "Jsoup_24\n",
      "Jsoup_25\n",
      "Jsoup_40\n",
      "Jsoup_45\n",
      "Jsoup_49\n",
      "Jsoup_64\n",
      "Jsoup_68\n",
      "Jsoup_75\n",
      "JxPath_5\n",
      "JxPath_16\n"
     ]
    }
   ],
   "source": [
    "answer_dict = {}\n",
    "for donorcode_answer in answer_list:\n",
    "    bug_id = donorcode_answer.strip().split('@')[0]\n",
    "    keyword_list = donorcode_answer.strip().split('@')[1].strip().split(',')\n",
    "    # print(keyword_list)\n",
    "    if len(keyword_list) == 1 and keyword_list[0] == '':\n",
    "        print(bug_id)\n",
    "    else:\n",
    "        answer_dict[bug_id] = keyword_list"
   ]
  },
  {
   "cell_type": "markdown",
   "metadata": {},
   "source": [
    "### Extract global search perfect case"
   ]
  },
  {
   "cell_type": "code",
   "execution_count": 89,
   "metadata": {},
   "outputs": [],
   "source": [
    "global_search_success_dict = {}\n",
    "for global_result_line in global_result:\n",
    "    bug_id = global_result_line[0]\n",
    "    identifier = global_result_line[1]\n",
    "    if bug_id in global_search_success_dict:\n",
    "        global_search_success_dict[bug_id].append(identifier)\n",
    "    else:\n",
    "        global_search_success_dict[bug_id] = [identifier]\n",
    "    "
   ]
  },
  {
   "cell_type": "code",
   "execution_count": 90,
   "metadata": {},
   "outputs": [],
   "source": [
    "global_search_perfect_case_bug_id_list = []\n",
    "for bug_id in answer_dict:\n",
    "    isPass = True\n",
    "    if bug_id in global_search_success_dict:\n",
    "        for identifier in answer_dict[bug_id]:\n",
    "            if identifier not in global_search_success_dict[bug_id]:\n",
    "                isPass = False\n",
    "    else:\n",
    "        isPass = False\n",
    "    if isPass == True:\n",
    "        global_search_perfect_case_bug_id_list.append(bug_id)"
   ]
  },
  {
   "cell_type": "code",
   "execution_count": 91,
   "metadata": {},
   "outputs": [
    {
     "name": "stdout",
     "output_type": "stream",
     "text": [
      "228\n"
     ]
    }
   ],
   "source": [
    "print(len(set(global_search_perfect_case_bug_id_list)))\n",
    "write_pickle(global_search_perfect_case_bug_id_list, 'analyze_dataset/global_search_perfect_case_bug_id_list.pkl')"
   ]
  },
  {
   "cell_type": "markdown",
   "metadata": {},
   "source": [
    "### Analyze direction result"
   ]
  },
  {
   "cell_type": "code",
   "execution_count": 96,
   "metadata": {},
   "outputs": [],
   "source": [
    "direction_result_dict = {}\n",
    "for result_info in direction_result:\n",
    "    bug_id = result_info[0]\n",
    "    identifier = result_info[1]\n",
    "    rank = result_info[2]\n",
    "    candidate_num = result_info[3]\n",
    "    identifier_dict = {'rank':rank, 'candidiate_num':candidate_num}\n",
    "    if identifier != 'none' and rank != 'fail':\n",
    "        if bug_id in direction_result_dict:\n",
    "            direction_result_dict[bug_id][identifier] = identifier_dict\n",
    "        else:\n",
    "            direction_result_dict[bug_id] = {identifier:identifier_dict}"
   ]
  },
  {
   "cell_type": "code",
   "execution_count": 97,
   "metadata": {},
   "outputs": [],
   "source": [
    "direction_perfect_case_bug_id_list = []\n",
    "for bug_id in global_search_perfect_case_bug_id_list:\n",
    "    isPass = True\n",
    "    if bug_id in direction_result_dict:\n",
    "        for identifier in answer_dict[bug_id]:\n",
    "            if identifier not in direction_result_dict[bug_id]:\n",
    "                isPass = False\n",
    "    else:\n",
    "        isPass = False\n",
    "    if isPass == True:\n",
    "        direction_perfect_case_bug_id_list.append(bug_id)\n"
   ]
  },
  {
   "cell_type": "code",
   "execution_count": 98,
   "metadata": {},
   "outputs": [
    {
     "data": {
      "text/plain": [
       "139"
      ]
     },
     "execution_count": 98,
     "metadata": {},
     "output_type": "execute_result"
    }
   ],
   "source": [
    "len(direction_perfect_case_bug_id_list)"
   ]
  },
  {
   "cell_type": "code",
   "execution_count": 99,
   "metadata": {},
   "outputs": [],
   "source": [
    "direction_result_in_project={'Chart':0,\n",
    "                             'Closure':0,\n",
    "                             'Lang':0,\n",
    "                             'Math':0,\n",
    "                             'Mockito':0,\n",
    "                             'Time':0}\n",
    "for bug_id in direction_perfect_case_bug_id_list:\n",
    "    project_name = bug_id.split('_')[0]\n",
    "    direction_result_in_project[project_name] += 1"
   ]
  },
  {
   "cell_type": "code",
   "execution_count": 101,
   "metadata": {},
   "outputs": [
    {
     "data": {
      "image/png": "[encoded data removed]",
      "text/plain": [
       "<Figure size 432x288 with 1 Axes>"
      ]
     },
     "metadata": {
      "needs_background": "light"
     },
     "output_type": "display_data"
    }
   ],
   "source": [
    "bar_graph(direction_result_in_project)"
   ]
  },
  {
   "cell_type": "code",
   "execution_count": 102,
   "metadata": {},
   "outputs": [],
   "source": [
    "direction_result_in_project_ratio = {}\n",
    "direction_result_in_project_ratio['Chart'] = direction_result_in_project['Chart'] * 100 / 26\n",
    "direction_result_in_project_ratio['Closure'] = direction_result_in_project['Closure'] * 100 / 133\n",
    "direction_result_in_project_ratio['Lang'] = direction_result_in_project['Lang'] * 100 / 65\n",
    "direction_result_in_project_ratio['Math'] = direction_result_in_project['Math'] * 100 / 106\n",
    "direction_result_in_project_ratio['Mockito'] = direction_result_in_project['Mockito'] * 100 / 38\n",
    "direction_result_in_project_ratio['Time'] = direction_result_in_project['Time'] * 100 / 27"
   ]
  },
  {
   "cell_type": "code",
   "execution_count": 103,
   "metadata": {},
   "outputs": [
    {
     "data": {
      "image/png": "[encoded data removed]",
      "text/plain": [
       "<Figure size 432x288 with 1 Axes>"
      ]
     },
     "metadata": {
      "needs_background": "light"
     },
     "output_type": "display_data"
    }
   ],
   "source": [
    "bar_graph(direction_result_in_project_ratio)"
   ]
  },
  {
   "cell_type": "code",
   "execution_count": null,
   "metadata": {},
   "outputs": [],
   "source": []
  },
  {
   "cell_type": "markdown",
   "metadata": {},
   "source": [
    "### Defects4j Loc calcualtion"
   ]
  },
  {
   "cell_type": "code",
   "execution_count": 104,
   "metadata": {},
   "outputs": [],
   "source": [
    "command_line_diff_dir = '../Data/CommandlineDiff/'\n",
    "projects = ['Chart', 'Closure', 'Lang', 'Math', 'Mockito', 'Time']"
   ]
  },
  {
   "cell_type": "code",
   "execution_count": 109,
   "metadata": {},
   "outputs": [],
   "source": [
    "def calculate_diff_loc(file_dir):\n",
    "    total_diff = 0\n",
    "    hunk_diff = 0\n",
    "    delete_line_num = 0\n",
    "    insert_line_num = 0\n",
    "    with open(file_dir, 'r') as f:\n",
    "        while True:\n",
    "            line = f.readline()\n",
    "            if not line: break\n",
    "            if line.startswith('<'):\n",
    "                delete_line_num += 1\n",
    "            elif line.startswith('>'):\n",
    "                insert_line_num += 1\n",
    "            elif line.startswith('-'):\n",
    "                pass\n",
    "            else:\n",
    "                total_diff += max(delete_line_num, insert_line_num)\n",
    "                delete_line_num = insert_line_num = 0\n",
    "        total_diff += max(delete_line_num, insert_line_num)\n",
    "    return total_diff\n",
    "                "
   ]
  },
  {
   "cell_type": "code",
   "execution_count": 110,
   "metadata": {},
   "outputs": [],
   "source": [
    "defects4j_loc_dict = {}\n",
    "for project_name in projects:\n",
    "    project_folder_dir = '{}{}/'.format(command_line_diff_dir, project_name)\n",
    "    for bug_id in os.listdir(project_folder_dir):\n",
    "        bug_folder_dir = '{}{}/'.format(project_folder_dir, bug_id)\n",
    "        diff_num = 0\n",
    "        for diff_file_name in os.listdir(bug_folder_dir):\n",
    "            diff_file_dir = '{}{}'.format(bug_folder_dir, diff_file_name)\n",
    "            diff_num += calculate_diff_loc(diff_file_dir)\n",
    "        defects4j_loc_dict['{}_{}'.format(project_name, bug_id)] = diff_num"
   ]
  },
  {
   "cell_type": "code",
   "execution_count": 115,
   "metadata": {},
   "outputs": [
    {
     "name": "stdout",
     "output_type": "stream",
     "text": [
      "<class 'dict'>\n"
     ]
    }
   ],
   "source": [
    "print(type(defects4j_loc_dict))"
   ]
  },
  {
   "cell_type": "code",
   "execution_count": 116,
   "metadata": {},
   "outputs": [],
   "source": [
    "loc_list = []\n",
    "for bug_id in direction_perfect_case_bug_id_list:\n",
    "    loc_list.append(defects4j_loc_dict[bug_id])"
   ]
  },
  {
   "cell_type": "code",
   "execution_count": 117,
   "metadata": {},
   "outputs": [
    {
     "name": "stdout",
     "output_type": "stream",
     "text": [
      "mean:4.568345323741007\n"
     ]
    },
    {
     "data": {
      "image/png": "[encoded data removed]",
      "text/plain": [
       "<Figure size 640x480 with 1 Axes>"
      ]
     },
     "metadata": {},
     "output_type": "display_data"
    }
   ],
   "source": [
    "violin_and_boxplot(loc_list)"
   ]
  },
  {
   "cell_type": "code",
   "execution_count": 119,
   "metadata": {},
   "outputs": [],
   "source": [
    "direction_fail_bug_id_list = []\n",
    "for bug_id in global_search_perfect_case_bug_id_list:\n",
    "    if bug_id not in direction_perfect_case_bug_id_list:\n",
    "        direction_fail_bug_id_list.append(bug_id)\n",
    "\n"
   ]
  },
  {
   "cell_type": "code",
   "execution_count": 120,
   "metadata": {},
   "outputs": [
    {
     "name": "stdout",
     "output_type": "stream",
     "text": [
      "mean:5.404494382022472\n"
     ]
    },
    {
     "data": {
      "image/png": "[encoded data removed]",
      "text/plain": [
       "<Figure size 640x480 with 1 Axes>"
      ]
     },
     "metadata": {},
     "output_type": "display_data"
    }
   ],
   "source": [
    "failed_loc_list = []\n",
    "for bug_id in direction_fail_bug_id_list:\n",
    "    failed_loc_list.append(defects4j_loc_dict[bug_id])\n",
    "violin_and_boxplot(failed_loc_list)"
   ]
  },
  {
   "cell_type": "code",
   "execution_count": 133,
   "metadata": {},
   "outputs": [],
   "source": [
    "bargraph_key_list = list(set(loc_list + failed_loc_list))\n",
    "bargraph_loc_dict = {}\n",
    "for num in bargraph_key_list:\n",
    "    bargraph_loc_dict[num] = loc_list.count(num)\n",
    "bargraph_failed_loc_dict = {}\n",
    "for num in bargraph_key_list:\n",
    "    bargraph_failed_loc_dict[num] = failed_loc_list.count(num)\n"
   ]
  },
  {
   "cell_type": "code",
   "execution_count": 134,
   "metadata": {},
   "outputs": [
    {
     "data": {
      "image/png": "[encoded data removed]",
      "text/plain": [
       "<Figure size 640x480 with 1 Axes>"
      ]
     },
     "metadata": {},
     "output_type": "display_data"
    },
    {
     "data": {
      "image/png": "[encoded data removed]",
      "text/plain": [
       "<Figure size 640x480 with 1 Axes>"
      ]
     },
     "metadata": {},
     "output_type": "display_data"
    }
   ],
   "source": [
    "bar_graph(bargraph_loc_dict)\n",
    "bar_graph(bargraph_failed_loc_dict)"
   ]
  },
  {
   "cell_type": "code",
   "execution_count": 135,
   "metadata": {},
   "outputs": [
    {
     "data": {
      "image/png": "[encoded data removed]",
      "text/plain": [
       "<Figure size 640x480 with 1 Axes>"
      ]
     },
     "metadata": {},
     "output_type": "display_data"
    },
    {
     "data": {
      "image/png": "[encoded data removed]",
      "text/plain": [
       "<Figure size 640x480 with 1 Axes>"
      ]
     },
     "metadata": {},
     "output_type": "display_data"
    }
   ],
   "source": [
    "del(bargraph_loc_dict[1])\n",
    "del(bargraph_failed_loc_dict[1])\n",
    "bar_graph(bargraph_loc_dict)\n",
    "bar_graph(bargraph_failed_loc_dict)"
   ]
  },
  {
   "cell_type": "code",
   "execution_count": 137,
   "metadata": {},
   "outputs": [
    {
     "name": "stdout",
     "output_type": "stream",
     "text": [
      "{2: 23,\n",
      " 3: 17,\n",
      " 4: 17,\n",
      " 5: 5,\n",
      " 6: 5,\n",
      " 7: 6,\n",
      " 8: 3,\n",
      " 9: 3,\n",
      " 10: 1,\n",
      " 11: 1,\n",
      " 12: 1,\n",
      " 13: 2,\n",
      " 14: 5,\n",
      " 15: 1,\n",
      " 16: 2,\n",
      " 18: 0,\n",
      " 19: 1,\n",
      " 20: 1,\n",
      " 21: 1,\n",
      " 22: 2,\n",
      " 33: 0}\n",
      "{2: 13,\n",
      " 3: 17,\n",
      " 4: 7,\n",
      " 5: 6,\n",
      " 6: 6,\n",
      " 7: 4,\n",
      " 8: 4,\n",
      " 9: 5,\n",
      " 10: 0,\n",
      " 11: 1,\n",
      " 12: 4,\n",
      " 13: 3,\n",
      " 14: 0,\n",
      " 15: 0,\n",
      " 16: 0,\n",
      " 18: 1,\n",
      " 19: 1,\n",
      " 20: 0,\n",
      " 21: 0,\n",
      " 22: 1,\n",
      " 33: 1}\n"
     ]
    }
   ],
   "source": [
    "pprint(bargraph_loc_dict)\n",
    "pprint(bargraph_failed_loc_dict)"
   ]
  },
  {
   "cell_type": "code",
   "execution_count": null,
   "metadata": {},
   "outputs": [],
   "source": []
  }
 ],
 "metadata": {
  "kernelspec": {
   "display_name": "Python 3.9.12 ('direction')",
   "language": "python",
   "name": "python3"
  },
  "language_info": {
   "codemirror_mode": {
    "name": "ipython",
    "version": 3
   },
   "file_extension": ".py",
   "mimetype": "text/x-python",
   "name": "python",
   "nbconvert_exporter": "python",
   "pygments_lexer": "ipython3",
   "version": "3.9.12"
  },
  "orig_nbformat": 4,
  "vscode": {
   "interpreter": {
    "hash": "816fe1cdc9dbaf92d41b4f3c1b5dea65d9333b1fed3639a06384feec86126b90"
   }
  }
 },
 "nbformat": 4,
 "nbformat_minor": 2
}
